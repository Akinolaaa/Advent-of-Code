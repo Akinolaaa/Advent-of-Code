{
 "cells": [
  {
   "cell_type": "markdown",
   "id": "fd6875b8",
   "metadata": {},
   "source": [
    "# Advent of Code Day 2: Dive! \n",
    "Now, you need to figure out how to pilot this thing.\n",
    "\n",
    "It seems like the submarine can take a series of commands like forward 1, down 2, or up 3:\n",
    "\n",
    "forward X increases the horizontal position by X units.\n",
    "down X increases the depth by X units.\n",
    "up X decreases the depth by X units.\n",
    "Note that since you're on a submarine, down and up affect your depth, and so they have the opposite result of what you might expect.\n",
    "\n",
    "The submarine seems to already have a planned course (your puzzle input). You should probably figure out where it's going. For example:\n",
    "\n",
    "* forward 5\n",
    "* down 5\n",
    "* forward 8\n",
    "* up 3\n",
    "* down 8\n",
    "* forward 2\n",
    "\n",
    "Your horizontal position and depth both start at 0. The steps above would then modify them as follows:\n",
    "\n",
    "* forward 5 adds 5 to your horizontal position, a total of 5.\n",
    "* down 5 adds 5 to your depth, resulting in a value of 5.\n",
    "* forward 8 adds 8 to your horizontal position, a total of 13.\n",
    "* up 3 decreases your depth by 3, resulting in a value of 2.\n",
    "* down 8 adds 8 to your depth, resulting in a value of 10.\n",
    "* forward 2 adds 2 to your horizontal position, a total of 15.\n",
    "\n",
    "After following these instructions, you would have a horizontal position of 15 and a depth of 10. (Multiplying these together produces 150.)\n",
    "\n",
    "Calculate the horizontal position and depth you would have after following the planned course. \n",
    "\n",
    "**What do you get if you multiply your final horizontal position by your final depth?**"
   ]
  },
  {
   "cell_type": "code",
   "execution_count": 1,
   "id": "37168214",
   "metadata": {},
   "outputs": [],
   "source": [
    "# First Create a function to read the text input\n",
    "def get_inputs(filepath):\n",
    "    file = open(filepath)\n",
    "    instructions = file.readlines()\n",
    "    return instructions"
   ]
  },
  {
   "cell_type": "code",
   "execution_count": 2,
   "id": "d7a323d1",
   "metadata": {},
   "outputs": [
    {
     "data": {
      "text/plain": [
       "['forward 7\\n',\n",
       " 'down 8\\n',\n",
       " 'forward 5\\n',\n",
       " 'down 3\\n',\n",
       " 'forward 6\\n',\n",
       " 'down 9\\n',\n",
       " 'down 2\\n',\n",
       " 'forward 1\\n',\n",
       " 'down 2\\n',\n",
       " 'down 9\\n']"
      ]
     },
     "execution_count": 2,
     "metadata": {},
     "output_type": "execute_result"
    }
   ],
   "source": [
    "# View\n",
    "instructions = get_inputs(\"puzzleinput.txt\")\n",
    "instructions[:10]"
   ]
  },
  {
   "cell_type": "code",
   "execution_count": 3,
   "id": "b1e7fba5",
   "metadata": {},
   "outputs": [
    {
     "data": {
      "text/plain": [
       "['forward 7',\n",
       " 'down 8',\n",
       " 'forward 5',\n",
       " 'down 3',\n",
       " 'forward 6',\n",
       " 'down 9',\n",
       " 'down 2',\n",
       " 'forward 1',\n",
       " 'down 2',\n",
       " 'down 9']"
      ]
     },
     "execution_count": 3,
     "metadata": {},
     "output_type": "execute_result"
    }
   ],
   "source": [
    "# Remove \\n\n",
    "instructions = [instruction[:-1] for instruction in instructions]\n",
    "instructions[:10]"
   ]
  },
  {
   "cell_type": "code",
   "execution_count": 4,
   "id": "a86a3003",
   "metadata": {},
   "outputs": [],
   "source": [
    "# Function to get direction and steps\n",
    "def movement(instruction):\n",
    "    instruction = instruction.split(\" \")\n",
    "    direction = instruction[0]\n",
    "    steps = int(instruction[1])\n",
    "    return direction, steps"
   ]
  },
  {
   "cell_type": "code",
   "execution_count": 5,
   "id": "6f2709ba",
   "metadata": {},
   "outputs": [],
   "source": [
    "# A position is defined by [horizontal_positon, depth]\n",
    "# Define a function to change positon from instructions\n",
    "def change_position(position, instructions):\n",
    "    new_position = position\n",
    "    for instruction in instructions:\n",
    "        direction, steps = movement(instruction)\n",
    "        if direction == \"forward\":\n",
    "            new_position[0] = new_position[0] + steps\n",
    "        elif direction == \"up\":\n",
    "            new_position[1] = new_position[1] - steps\n",
    "        else: \n",
    "            new_position[1] = new_position[1] + steps\n",
    "    return new_position"
   ]
  },
  {
   "cell_type": "code",
   "execution_count": 6,
   "id": "6956c607",
   "metadata": {},
   "outputs": [
    {
     "data": {
      "text/plain": [
       "[2105, 807]"
      ]
     },
     "execution_count": 6,
     "metadata": {},
     "output_type": "execute_result"
    }
   ],
   "source": [
    "new = change_position([0,0], instructions)\n",
    "new"
   ]
  },
  {
   "cell_type": "code",
   "execution_count": 7,
   "id": "8c7d031f",
   "metadata": {},
   "outputs": [
    {
     "data": {
      "text/plain": [
       "1698735"
      ]
     },
     "execution_count": 7,
     "metadata": {},
     "output_type": "execute_result"
    }
   ],
   "source": [
    "# puzzle_solution = horizontal_position * depth\n",
    "puzzle_solution = new[0] * new[1]\n",
    "puzzle_solution"
   ]
  },
  {
   "cell_type": "code",
   "execution_count": null,
   "id": "01241f66",
   "metadata": {},
   "outputs": [],
   "source": []
  },
  {
   "cell_type": "markdown",
   "id": "47cfc337",
   "metadata": {},
   "source": [
    "## Part Two\n",
    "Based on your calculations, the planned course doesn't seem to make any sense. You find the submarine manual and discover that the process is actually slightly more complicated.\n",
    "\n",
    "In addition to horizontal position and depth, you'll also need to track a third value, aim, which also starts at 0. The commands also mean something entirely different than you first thought:\n",
    "\n",
    "* down X increases your aim by X units.\n",
    "* up X decreases your aim by X units.\n",
    "* forward X does two things:\n",
    "    *It increases your horizontal position by X units.\n",
    "    *It increases your depth by your aim multiplied by X.\n",
    "Again note that since you're on a submarine, down and up do the opposite of what you might expect: \"down\" means aiming in the positive direction.\n",
    "\n",
    "Now, the above example does something different:\n",
    "\n",
    "* forward 5 adds 5 to your horizontal position, a total of 5. Because your aim is 0, your depth does not change.\n",
    "* down 5 adds 5 to your aim, resulting in a value of 5.\n",
    "* forward 8 adds 8 to your horizontal position, a total of 13. Because your aim is 5, your depth increases by 8*5=40.\n",
    "* up 3 decreases your aim by 3, resulting in a value of 2.\n",
    "* down 8 adds 8 to your aim, resulting in a value of 10.\n",
    "* forward 2 adds 2 to your horizontal position, a total of 15. Because your aim is 10, your depth increases by 2*10=20 to a total of 60.\n",
    "\n",
    "After following these new instructions, you would have a horizontal position of 15 and a depth of 60. (Multiplying these produces 900.)\n",
    "\n",
    "Using this new interpretation of the commands, calculate the horizontal position and depth you would have after following the planned course. \n",
    "\n",
    "**What do you get if you multiply your final horizontal position by your final depth?**"
   ]
  },
  {
   "cell_type": "code",
   "execution_count": 8,
   "id": "68df6dc5",
   "metadata": {},
   "outputs": [
    {
     "data": {
      "text/plain": [
       "['forward 7',\n",
       " 'down 8',\n",
       " 'forward 5',\n",
       " 'down 3',\n",
       " 'forward 6',\n",
       " 'down 9',\n",
       " 'down 2',\n",
       " 'forward 1',\n",
       " 'down 2',\n",
       " 'down 9']"
      ]
     },
     "execution_count": 8,
     "metadata": {},
     "output_type": "execute_result"
    }
   ],
   "source": [
    "# View first 10 instructions\n",
    "instructions[:10]"
   ]
  },
  {
   "cell_type": "code",
   "execution_count": 9,
   "id": "d686b724",
   "metadata": {},
   "outputs": [],
   "source": [
    "# Function to get direction and steps from an instruction\n",
    "def movement(instruction):\n",
    "    instruction = instruction.split(\" \")\n",
    "    direction = instruction[0]\n",
    "    steps = int(instruction[1])\n",
    "    return direction, steps"
   ]
  },
  {
   "cell_type": "code",
   "execution_count": 10,
   "id": "9dc27e30",
   "metadata": {},
   "outputs": [],
   "source": [
    "# A position is defined by [horizontal_positon, depth, aim]\n",
    "# Define a function to change positon from instructions\n",
    "# down X = aim + X\n",
    "# up X = aim - X\n",
    "# forward X = horizontal_position + X and depth + aim * X\n",
    "def change_position(position, instructions):\n",
    "    new_position = position\n",
    "    for instruction in instructions:\n",
    "        direction, steps = movement(instruction)\n",
    "        if direction == \"forward\":\n",
    "            new_position[0] = new_position[0] + steps\n",
    "            new_position[1] = new_position[1] + new_position[2]*steps\n",
    "        elif direction == \"up\":\n",
    "            new_position[2] = new_position[2] - steps\n",
    "        else: \n",
    "            new_position[2] = new_position[2] + steps\n",
    "    return new_position"
   ]
  },
  {
   "cell_type": "code",
   "execution_count": 11,
   "id": "2175d9e6",
   "metadata": {},
   "outputs": [
    {
     "data": {
      "text/plain": [
       "[2105, 757618, 807]"
      ]
     },
     "execution_count": 11,
     "metadata": {},
     "output_type": "execute_result"
    }
   ],
   "source": [
    "new = change_position([0,0,0], instructions)\n",
    "new"
   ]
  },
  {
   "cell_type": "code",
   "execution_count": 12,
   "id": "9fff27e0",
   "metadata": {},
   "outputs": [
    {
     "data": {
      "text/plain": [
       "1594785890"
      ]
     },
     "execution_count": 12,
     "metadata": {},
     "output_type": "execute_result"
    }
   ],
   "source": [
    "# puzzle_solution = horizontal_position * depth\n",
    "puzzle_solution = new[0] * new[1]\n",
    "puzzle_solution"
   ]
  },
  {
   "cell_type": "code",
   "execution_count": null,
   "id": "74dc62f5",
   "metadata": {},
   "outputs": [],
   "source": []
  },
  {
   "cell_type": "code",
   "execution_count": null,
   "id": "ec3052e5",
   "metadata": {},
   "outputs": [],
   "source": []
  },
  {
   "cell_type": "code",
   "execution_count": null,
   "id": "24b60c9e",
   "metadata": {},
   "outputs": [],
   "source": []
  }
 ],
 "metadata": {
  "kernelspec": {
   "display_name": "Python 3 (ipykernel)",
   "language": "python",
   "name": "python3"
  },
  "language_info": {
   "codemirror_mode": {
    "name": "ipython",
    "version": 3
   },
   "file_extension": ".py",
   "mimetype": "text/x-python",
   "name": "python",
   "nbconvert_exporter": "python",
   "pygments_lexer": "ipython3",
   "version": "3.9.6"
  }
 },
 "nbformat": 4,
 "nbformat_minor": 5
}
