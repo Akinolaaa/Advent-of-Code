{
 "cells": [
  {
   "cell_type": "markdown",
   "id": "fd1061e6",
   "metadata": {},
   "source": [
    "# --- Day 3: Binary Diagnostic ---\n",
    "\n",
    "The submarine has been making some odd creaking noises, so you ask it to produce a diagnostic report just in case.\n",
    "\n",
    "The diagnostic report (your puzzle input) consists of a list of binary numbers which, when decoded properly, can tell you many useful things about the conditions of the submarine. The first parameter to check is the power consumption.\n",
    "\n",
    "You need to use the binary numbers in the diagnostic report to generate two new binary numbers (called the gamma rate and the epsilon rate). The power consumption can then be found by multiplying the gamma rate by the epsilon rate.\n",
    "\n",
    "Each bit in the gamma rate can be determined by finding the most common bit in the corresponding position of all numbers in the diagnostic report. For example, given the following diagnostic report:\n",
    "\n",
    "* 00100\n",
    "* 11110\n",
    "* 10110\n",
    "* 10111\n",
    "* 10101\n",
    "* 01111\n",
    "* 00111\n",
    "* 11100\n",
    "* 10000\n",
    "* 11001\n",
    "* 00010\n",
    "* 01010\n",
    "\n",
    "Considering only the first bit of each number, there are five 0 bits and seven 1 bits. Since the most common bit is 1, the first bit of the gamma rate is 1.\n",
    "\n",
    "The most common second bit of the numbers in the diagnostic report is 0, so the second bit of the gamma rate is 0.\n",
    "\n",
    "The most common value of the third, fourth, and fifth bits are 1, 1, and 0, respectively, and so the final three bits of the gamma rate are 110.\n",
    "\n",
    "So, the gamma rate is the binary number 10110, or 22 in decimal.\n",
    "\n",
    "The epsilon rate is calculated in a similar way; rather than use the most common bit, the least common bit from each position is used. So, the epsilon rate is 01001, or 9 in decimal. Multiplying the gamma rate (22) by the epsilon rate (9) produces the power consumption, 198.\n",
    "\n",
    "Use the binary numbers in your diagnostic report to calculate the gamma rate and epsilon rate, then multiply them together. \n",
    "\n",
    "What is the power consumption of the submarine? (Be sure to represent your answer in decimal, not binary.)"
   ]
  },
  {
   "cell_type": "code",
   "execution_count": 1,
   "id": "6fa1f8c7",
   "metadata": {},
   "outputs": [],
   "source": [
    "# First Create a function to read the text input\n",
    "def get_inputs(filepath):\n",
    "    file = open(filepath)\n",
    "    report = file.readlines()\n",
    "    ## Removing \\n from every line\n",
    "    report = [rep[:-1] for rep in report]\n",
    "    return report"
   ]
  },
  {
   "cell_type": "code",
   "execution_count": 2,
   "id": "07d0341c",
   "metadata": {},
   "outputs": [
    {
     "data": {
      "text/plain": [
       "['110001010111',\n",
       " '011011110010',\n",
       " '110011110011',\n",
       " '101000010111',\n",
       " '011101100100',\n",
       " '111001011100',\n",
       " '011100000101',\n",
       " '011110110011',\n",
       " '001001111111',\n",
       " '111000010000']"
      ]
     },
     "execution_count": 2,
     "metadata": {},
     "output_type": "execute_result"
    }
   ],
   "source": [
    "report = get_inputs(\"puzzleinput.txt\")\n",
    "report[:10]"
   ]
  },
  {
   "cell_type": "code",
   "execution_count": 3,
   "id": "afc23ba3",
   "metadata": {},
   "outputs": [],
   "source": [
    "# Create a function to count 1's and 0's in every index\n",
    "# and return gamma rate and epsilon rate\n",
    "def generate_gamma_epsilon(report):\n",
    "    \"\"\"This function generates the gamma rate and epsilon rate in binary\n",
    "    from a report\n",
    "    \"\"\"\n",
    "    gamma = \"\"\n",
    "    epsilon = \"\"\n",
    "    \n",
    "    for i in range(len(report[0])):\n",
    "        zeros_count = 0     # Reset after every index\n",
    "        ones_count = 0      # Reset after every index\n",
    "        for rep in report:\n",
    "            if rep[i] == '0':\n",
    "                zeros_count = zeros_count + 1\n",
    "            elif rep[i] == '1':\n",
    "                ones_count = ones_count + 1\n",
    "        if zeros_count > ones_count:\n",
    "            gamma = gamma + \"0\"\n",
    "            epsilon = epsilon +  \"1\"\n",
    "        else: \n",
    "            gamma = gamma + \"1\"\n",
    "            epsilon = epsilon +  \"0\"\n",
    "    return gamma, epsilon"
   ]
  },
  {
   "cell_type": "code",
   "execution_count": 4,
   "id": "a76bc592",
   "metadata": {},
   "outputs": [
    {
     "data": {
      "text/plain": [
       "['110001010111',\n",
       " '011011110010',\n",
       " '110011110011',\n",
       " '101000010111',\n",
       " '011101100100']"
      ]
     },
     "execution_count": 4,
     "metadata": {},
     "output_type": "execute_result"
    }
   ],
   "source": [
    "# View first 5 reports\n",
    "report[:5]"
   ]
  },
  {
   "cell_type": "code",
   "execution_count": 5,
   "id": "2909930b",
   "metadata": {},
   "outputs": [
    {
     "data": {
      "text/plain": [
       "('111001110111', '000110001000')"
      ]
     },
     "execution_count": 5,
     "metadata": {},
     "output_type": "execute_result"
    }
   ],
   "source": [
    "# Test on first 5 reports\n",
    "generate_gamma_epsilon(report[:5])"
   ]
  },
  {
   "cell_type": "code",
   "execution_count": 6,
   "id": "6bb7da72",
   "metadata": {},
   "outputs": [
    {
     "data": {
      "text/plain": [
       "('001100001011', '110011110100')"
      ]
     },
     "execution_count": 6,
     "metadata": {},
     "output_type": "execute_result"
    }
   ],
   "source": [
    "# On full report\n",
    "gamma, epsilon = generate_gamma_epsilon(report)\n",
    "gamma, epsilon"
   ]
  },
  {
   "cell_type": "code",
   "execution_count": 7,
   "id": "c34a3d38",
   "metadata": {},
   "outputs": [
    {
     "data": {
      "text/plain": [
       "(779, 3316)"
      ]
     },
     "execution_count": 7,
     "metadata": {},
     "output_type": "execute_result"
    }
   ],
   "source": [
    "# Change to decimal\n",
    "gamma = int(gamma,2)\n",
    "epsilon = int(epsilon,2)\n",
    "gamma, epsilon"
   ]
  },
  {
   "cell_type": "code",
   "execution_count": 8,
   "id": "daac0426",
   "metadata": {},
   "outputs": [
    {
     "data": {
      "text/plain": [
       "2583164"
      ]
     },
     "execution_count": 8,
     "metadata": {},
     "output_type": "execute_result"
    }
   ],
   "source": [
    "# Puzzle solution\n",
    "power_consumption = gamma * epsilon\n",
    "power_consumption"
   ]
  },
  {
   "cell_type": "code",
   "execution_count": null,
   "id": "9810db3d",
   "metadata": {},
   "outputs": [],
   "source": []
  },
  {
   "cell_type": "markdown",
   "id": "a0854d64",
   "metadata": {},
   "source": [
    "## --- Part Two ---\n",
    "Next, you should verify the life support rating, which can be determined by multiplying the oxygen generator rating by the CO2 scrubber rating.\n",
    "\n",
    "Both the oxygen generator rating and the CO2 scrubber rating are values that can be found in your diagnostic report - finding them is the tricky part. Both values are located using a similar process that involves filtering out values until only one remains. Before searching for either rating value, start with the full list of binary numbers from your diagnostic report and consider just the first bit of those numbers. Then:\n",
    "\n",
    "Keep only numbers selected by the bit criteria for the type of rating value for which you are searching. Discard numbers which do not match the bit criteria.\n",
    "If you only have one number left, stop; this is the rating value for which you are searching.\n",
    "Otherwise, repeat the process, considering the next bit to the right.\n",
    "The bit criteria depends on which type of rating value you want to find:\n",
    "\n",
    "To find oxygen generator rating, determine the most common value (0 or 1) in the current bit position, and keep only numbers with that bit in that position. If 0 and 1 are equally common, keep values with a 1 in the position being considered.\n",
    "To find CO2 scrubber rating, determine the least common value (0 or 1) in the current bit position, and keep only numbers with that bit in that position. If 0 and 1 are equally common, keep values with a 0 in the position being considered.\n",
    "\n",
    "For example, to determine the oxygen generator rating value using the same example diagnostic report from above:\n",
    "\n",
    "- Start with all 12 numbers and consider only the first bit of each number. There are more 1 bits (7) than 0 bits (5), so keep only the 7 numbers with a 1 in the first position: 11110, 10110, 10111, 10101, 11100, 10000, and 11001.\n",
    "- Then, consider the second bit of the 7 remaining numbers: there are more 0 bits (4) than 1 bits (3), so keep only the 4 numbers with a 0 in the second position: 10110, 10111, 10101, and 10000.\n",
    "- In the third position, three of the four numbers have a 1, so keep those three: 10110, 10111, and 10101.\n",
    "- In the fourth position, two of the three numbers have a 1, so keep those two: 10110 and 10111.\n",
    "- In the fifth position, there are an equal number of 0 bits and 1 bits (one each). So, to find the oxygen generator rating, keep the number with a 1 in that position: 10111.\n",
    "- As there is only one number left, stop; the oxygen generator rating is 10111, or 23 in decimal.\n",
    "- Then, to determine the CO2 scrubber rating value from the same example above:\n",
    "\n",
    "Start again with all 12 numbers and consider only the first bit of each number. There are fewer 0 bits (5) than 1 bits (7), so keep only the 5 numbers with a 0 in the first position: 00100, 01111, 00111, 00010, and 01010.\n",
    "- Then, consider the second bit of the 5 remaining numbers: there are fewer 1 bits (2) than 0 bits (3), so keep only the 2 numbers with a 1 in the second position: 01111 and 01010.\n",
    "- In the third position, there are an equal number of 0 bits and 1 bits (one each). So, to find the CO2 scrubber rating, keep the number with a 0 in that position: 01010.\n",
    "- As there is only one number left, stop; the CO2 scrubber rating is 01010, or 10 in decimal.\n",
    "- Finally, to find the life support rating, multiply the oxygen generator rating (23) by the CO2 scrubber rating (10) to get 230.\n",
    "\n",
    "Use the binary numbers in your diagnostic report to calculate the oxygen generator rating and CO2 scrubber rating, then multiply them together. \n",
    "\n",
    "What is the life support rating of the submarine? (Be sure to represent your answer in decimal, not binary.)"
   ]
  },
  {
   "cell_type": "code",
   "execution_count": 9,
   "id": "f48b0831",
   "metadata": {},
   "outputs": [
    {
     "data": {
      "text/plain": [
       "['110001010111',\n",
       " '011011110010',\n",
       " '110011110011',\n",
       " '101000010111',\n",
       " '011101100100']"
      ]
     },
     "execution_count": 9,
     "metadata": {},
     "output_type": "execute_result"
    }
   ],
   "source": [
    "# Inputs are same. View first 5\n",
    "report[:5]"
   ]
  },
  {
   "cell_type": "code",
   "execution_count": 10,
   "id": "f1d7e4e7",
   "metadata": {},
   "outputs": [],
   "source": [
    "# Function to divide the elements in a particular index to \n",
    "# zeroes and ones\n",
    "def divide_elements(lis, index):\n",
    "    new_list = lis[:]\n",
    "    zeros = []\n",
    "    ones= []\n",
    "    for element in new_list:\n",
    "        if element[index] == '0':\n",
    "            zeros.append(element)\n",
    "        else:\n",
    "            ones.append(element)\n",
    "    return zeros, ones"
   ]
  },
  {
   "cell_type": "code",
   "execution_count": 11,
   "id": "54740df3",
   "metadata": {},
   "outputs": [
    {
     "data": {
      "text/plain": [
       "['110001010111',\n",
       " '011011110010',\n",
       " '110011110011',\n",
       " '101000010111',\n",
       " '011101100100',\n",
       " '111001011100',\n",
       " '011100000101',\n",
       " '011110110011',\n",
       " '001001111111',\n",
       " '111000010000']"
      ]
     },
     "execution_count": 11,
     "metadata": {},
     "output_type": "execute_result"
    }
   ],
   "source": [
    "report[:10]"
   ]
  },
  {
   "cell_type": "code",
   "execution_count": 12,
   "id": "e318fb1b",
   "metadata": {},
   "outputs": [
    {
     "data": {
      "text/plain": [
       "(['101000010111'],\n",
       " ['110001010111', '011011110010', '110011110011', '011101100100'])"
      ]
     },
     "execution_count": 12,
     "metadata": {},
     "output_type": "execute_result"
    }
   ],
   "source": [
    "# Test divide_elements\n",
    "a,b = divide_elements(report[:5], 1)\n",
    "a,b"
   ]
  },
  {
   "cell_type": "code",
   "execution_count": 13,
   "id": "21b3512f",
   "metadata": {},
   "outputs": [
    {
     "data": {
      "text/plain": [
       "(['011011110010',\n",
       "  '011101100100',\n",
       "  '011100000101',\n",
       "  '011110110011',\n",
       "  '001001111111',\n",
       "  '001000101100',\n",
       "  '011100111010',\n",
       "  '011100111000',\n",
       "  '011100010001'],\n",
       " ['110001010111',\n",
       "  '110011110011',\n",
       "  '101000010111',\n",
       "  '111001011100',\n",
       "  '111000010000',\n",
       "  '100001100000'])"
      ]
     },
     "execution_count": 13,
     "metadata": {},
     "output_type": "execute_result"
    }
   ],
   "source": [
    "a,b = divide_elements(report[:15], 0)\n",
    "a,b"
   ]
  },
  {
   "cell_type": "code",
   "execution_count": 14,
   "id": "d1eef38a",
   "metadata": {},
   "outputs": [
    {
     "data": {
      "text/plain": [
       "(9, 6)"
      ]
     },
     "execution_count": 14,
     "metadata": {},
     "output_type": "execute_result"
    }
   ],
   "source": [
    "len(a), len(b)"
   ]
  },
  {
   "cell_type": "code",
   "execution_count": 15,
   "id": "c400d68f",
   "metadata": {},
   "outputs": [],
   "source": [
    "## Function to determine oxygen generator rating and CO2 scrubber rating\n",
    "def determine_oxygen_ratings(report):\n",
    "    oxygen = report[:]\n",
    "    for i in range(len(report[0])):\n",
    "        if(len(oxygen) > 1):  \n",
    "            for el in oxygen:\n",
    "                zeroes, ones = divide_elements(oxygen, i)\n",
    "                if(len(zeroes) > len(ones)):\n",
    "                    oxygen = zeroes[:]\n",
    "                elif (len(zeroes) < len(ones)):\n",
    "                    oxygen = ones[:]\n",
    "                else:\n",
    "                    oxygen = ones[:]\n",
    "    return oxygen\n",
    "            "
   ]
  },
  {
   "cell_type": "code",
   "execution_count": 16,
   "id": "52440ab4",
   "metadata": {},
   "outputs": [],
   "source": [
    "## Function to determine CO2 scrubber rating\n",
    "def determine_co2_ratings(report):\n",
    "    co2 = report[:]\n",
    "    for j in range(len(report[0])):\n",
    "        if len(co2) == 1:\n",
    "            return co2\n",
    "        if(len(co2)):  \n",
    "            for el in co2:\n",
    "                zeroes2, ones2 = divide_elements(co2, j)\n",
    "                if(len(zeroes2) > len(ones2) and len(ones2)!= 0):\n",
    "                    co2 = ones2[:]\n",
    "                elif (len(zeroes2) <= len(ones2) and len(zeroes2)!= 0):\n",
    "                    co2 = zeroes2[:]\n",
    "    return co2"
   ]
  },
  {
   "cell_type": "code",
   "execution_count": 17,
   "id": "4dc8f105",
   "metadata": {},
   "outputs": [
    {
     "data": {
      "text/plain": [
       "['110001010111',\n",
       " '011011110010',\n",
       " '110011110011',\n",
       " '101000010111',\n",
       " '011101100100']"
      ]
     },
     "execution_count": 17,
     "metadata": {},
     "output_type": "execute_result"
    }
   ],
   "source": [
    "report[:5]"
   ]
  },
  {
   "cell_type": "code",
   "execution_count": 19,
   "id": "9c65d426",
   "metadata": {},
   "outputs": [
    {
     "data": {
      "text/plain": [
       "['110011110011']"
      ]
     },
     "execution_count": 19,
     "metadata": {},
     "output_type": "execute_result"
    }
   ],
   "source": [
    "# Test both functions above on small reports\n",
    "determine_oxygen_ratings(report[:5])"
   ]
  },
  {
   "cell_type": "code",
   "execution_count": 20,
   "id": "4b442e09",
   "metadata": {},
   "outputs": [
    {
     "data": {
      "text/plain": [
       "['011011110010']"
      ]
     },
     "execution_count": 20,
     "metadata": {},
     "output_type": "execute_result"
    }
   ],
   "source": [
    "determine_co2_ratings(report[:5])"
   ]
  },
  {
   "cell_type": "code",
   "execution_count": 21,
   "id": "d42fe88b",
   "metadata": {},
   "outputs": [
    {
     "data": {
      "text/plain": [
       "['111001011100']"
      ]
     },
     "execution_count": 21,
     "metadata": {},
     "output_type": "execute_result"
    }
   ],
   "source": [
    "determine_oxygen_ratings(report[:20])"
   ]
  },
  {
   "cell_type": "code",
   "execution_count": 22,
   "id": "99816cc6",
   "metadata": {},
   "outputs": [
    {
     "data": {
      "text/plain": [
       "['001000101100']"
      ]
     },
     "execution_count": 22,
     "metadata": {},
     "output_type": "execute_result"
    }
   ],
   "source": [
    "determine_co2_ratings(report[:20])"
   ]
  },
  {
   "cell_type": "code",
   "execution_count": null,
   "id": "260a9703",
   "metadata": {},
   "outputs": [],
   "source": []
  },
  {
   "cell_type": "markdown",
   "id": "7061b762",
   "metadata": {},
   "source": [
    "### Final Solution"
   ]
  },
  {
   "cell_type": "code",
   "execution_count": 23,
   "id": "a2e3c50e",
   "metadata": {},
   "outputs": [
    {
     "data": {
      "text/plain": [
       "(['001100111001'], ['110100101111'])"
      ]
     },
     "execution_count": 23,
     "metadata": {},
     "output_type": "execute_result"
    }
   ],
   "source": [
    "oxygen_generator_rating = determine_oxygen_ratings(report)\n",
    "CO2_scrubber_rating = determine_co2_ratings(report)\n",
    "oxygen_generator_rating, CO2_scrubber_rating"
   ]
  },
  {
   "cell_type": "code",
   "execution_count": 24,
   "id": "e3d8b401",
   "metadata": {},
   "outputs": [
    {
     "data": {
      "text/plain": [
       "825"
      ]
     },
     "execution_count": 24,
     "metadata": {},
     "output_type": "execute_result"
    }
   ],
   "source": [
    "oxygen_generator_rating = int(oxygen_generator_rating[0], 2)\n",
    "oxygen_generator_rating"
   ]
  },
  {
   "cell_type": "code",
   "execution_count": 25,
   "id": "e74c6151",
   "metadata": {},
   "outputs": [
    {
     "data": {
      "text/plain": [
       "3375"
      ]
     },
     "execution_count": 25,
     "metadata": {},
     "output_type": "execute_result"
    }
   ],
   "source": [
    "CO2_scrubber_rating = int(CO2_scrubber_rating[0], 2)\n",
    "CO2_scrubber_rating"
   ]
  },
  {
   "cell_type": "code",
   "execution_count": 26,
   "id": "c30d956f",
   "metadata": {},
   "outputs": [
    {
     "data": {
      "text/plain": [
       "2784375"
      ]
     },
     "execution_count": 26,
     "metadata": {},
     "output_type": "execute_result"
    }
   ],
   "source": [
    "puzzle_solution = oxygen_generator_rating * CO2_scrubber_rating\n",
    "puzzle_solution"
   ]
  },
  {
   "cell_type": "code",
   "execution_count": null,
   "id": "6187371b",
   "metadata": {},
   "outputs": [],
   "source": []
  }
 ],
 "metadata": {
  "kernelspec": {
   "display_name": "Python 3 (ipykernel)",
   "language": "python",
   "name": "python3"
  },
  "language_info": {
   "codemirror_mode": {
    "name": "ipython",
    "version": 3
   },
   "file_extension": ".py",
   "mimetype": "text/x-python",
   "name": "python",
   "nbconvert_exporter": "python",
   "pygments_lexer": "ipython3",
   "version": "3.9.6"
  }
 },
 "nbformat": 4,
 "nbformat_minor": 5
}
